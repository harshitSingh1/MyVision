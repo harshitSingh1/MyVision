{
  "nbformat": 4,
  "nbformat_minor": 0,
  "metadata": {
    "colab": {
      "provenance": []
    },
    "kernelspec": {
      "name": "python3",
      "display_name": "Python 3"
    }
  },
  "cells": [
    {
      "cell_type": "markdown",
      "metadata": {
        "id": "5Ce14OgkfaAc"
      },
      "source": [
        "**Career Guidance System**"
      ]
    },
    {
      "cell_type": "code",
      "metadata": {
        "colab": {
          "base_uri": "https://localhost:8080/",
          "height": 359
        },
        "id": "VREYLjokfSaN",
        "outputId": "b08df79d-e5b8-4f08-fa79-96888754066c"
      },
      "source": [
        "#importing data\n",
        "import numpy as np\n",
        "import pandas as pd\n",
        "\n",
        "url='https://raw.githubusercontent.com/Nantha-1998/404-CODER/master/career_compute_dataset.csv'\n",
        "dataset = pd.read_csv(url)\n",
        "print(np.shape(dataset))\n",
        "dataset.head()"
      ],
      "execution_count": 1,
      "outputs": [
        {
          "output_type": "stream",
          "name": "stdout",
          "text": [
            "(7525, 26)\n"
          ]
        },
        {
          "output_type": "execute_result",
          "data": {
            "text/plain": [
              "   sslc  hsc  cgpa  school_type  no_of_miniprojects  no_of_projects  \\\n",
              "0     2    3     2            3                   1               1   \n",
              "1     3    1     2            2                   2               1   \n",
              "2     3    4     2            2                   1               1   \n",
              "3     3    4     2            1                   1               1   \n",
              "4     2    3     2            4                   1               1   \n",
              "\n",
              "   coresub_skill  aptitude_skill  problemsolving_skill  programming_skill  \\\n",
              "0              1               1                     2                  4   \n",
              "1              1               3                     2                  4   \n",
              "2              1               2                     3                  3   \n",
              "3              1               1                     3                  2   \n",
              "4              1               4                     3                  3   \n",
              "\n",
              "   ...  technology_used  sympos_attend  sympos_won  extracurricular  \\\n",
              "0  ...                1              3           1                2   \n",
              "1  ...                2              3           2                3   \n",
              "2  ...                1              4           3                1   \n",
              "3  ...                1              3           2                1   \n",
              "4  ...                1              2           1                3   \n",
              "\n",
              "   learning_style  college_bench  clg_teachers_know  college_performence   \\\n",
              "0               2              4                  3                     4   \n",
              "1               2              5                  3                     3   \n",
              "2               4              3                  3                     3   \n",
              "3               2              1                  4                     4   \n",
              "4               1              5                  4                     3   \n",
              "\n",
              "   college_skills                ROLE  \n",
              "0               5   Technical Support  \n",
              "1               4  Software Developer  \n",
              "2               4      UI/UX Designer  \n",
              "3               3   Technical Support  \n",
              "4               1        Data Analyst  \n",
              "\n",
              "[5 rows x 26 columns]"
            ],
            "text/html": [
              "\n",
              "  <div id=\"df-5c1ddc83-e2fb-4f10-a47c-75a7e4fd1c63\" class=\"colab-df-container\">\n",
              "    <div>\n",
              "<style scoped>\n",
              "    .dataframe tbody tr th:only-of-type {\n",
              "        vertical-align: middle;\n",
              "    }\n",
              "\n",
              "    .dataframe tbody tr th {\n",
              "        vertical-align: top;\n",
              "    }\n",
              "\n",
              "    .dataframe thead th {\n",
              "        text-align: right;\n",
              "    }\n",
              "</style>\n",
              "<table border=\"1\" class=\"dataframe\">\n",
              "  <thead>\n",
              "    <tr style=\"text-align: right;\">\n",
              "      <th></th>\n",
              "      <th>sslc</th>\n",
              "      <th>hsc</th>\n",
              "      <th>cgpa</th>\n",
              "      <th>school_type</th>\n",
              "      <th>no_of_miniprojects</th>\n",
              "      <th>no_of_projects</th>\n",
              "      <th>coresub_skill</th>\n",
              "      <th>aptitude_skill</th>\n",
              "      <th>problemsolving_skill</th>\n",
              "      <th>programming_skill</th>\n",
              "      <th>...</th>\n",
              "      <th>technology_used</th>\n",
              "      <th>sympos_attend</th>\n",
              "      <th>sympos_won</th>\n",
              "      <th>extracurricular</th>\n",
              "      <th>learning_style</th>\n",
              "      <th>college_bench</th>\n",
              "      <th>clg_teachers_know</th>\n",
              "      <th>college_performence</th>\n",
              "      <th>college_skills</th>\n",
              "      <th>ROLE</th>\n",
              "    </tr>\n",
              "  </thead>\n",
              "  <tbody>\n",
              "    <tr>\n",
              "      <th>0</th>\n",
              "      <td>2</td>\n",
              "      <td>3</td>\n",
              "      <td>2</td>\n",
              "      <td>3</td>\n",
              "      <td>1</td>\n",
              "      <td>1</td>\n",
              "      <td>1</td>\n",
              "      <td>1</td>\n",
              "      <td>2</td>\n",
              "      <td>4</td>\n",
              "      <td>...</td>\n",
              "      <td>1</td>\n",
              "      <td>3</td>\n",
              "      <td>1</td>\n",
              "      <td>2</td>\n",
              "      <td>2</td>\n",
              "      <td>4</td>\n",
              "      <td>3</td>\n",
              "      <td>4</td>\n",
              "      <td>5</td>\n",
              "      <td>Technical Support</td>\n",
              "    </tr>\n",
              "    <tr>\n",
              "      <th>1</th>\n",
              "      <td>3</td>\n",
              "      <td>1</td>\n",
              "      <td>2</td>\n",
              "      <td>2</td>\n",
              "      <td>2</td>\n",
              "      <td>1</td>\n",
              "      <td>1</td>\n",
              "      <td>3</td>\n",
              "      <td>2</td>\n",
              "      <td>4</td>\n",
              "      <td>...</td>\n",
              "      <td>2</td>\n",
              "      <td>3</td>\n",
              "      <td>2</td>\n",
              "      <td>3</td>\n",
              "      <td>2</td>\n",
              "      <td>5</td>\n",
              "      <td>3</td>\n",
              "      <td>3</td>\n",
              "      <td>4</td>\n",
              "      <td>Software Developer</td>\n",
              "    </tr>\n",
              "    <tr>\n",
              "      <th>2</th>\n",
              "      <td>3</td>\n",
              "      <td>4</td>\n",
              "      <td>2</td>\n",
              "      <td>2</td>\n",
              "      <td>1</td>\n",
              "      <td>1</td>\n",
              "      <td>1</td>\n",
              "      <td>2</td>\n",
              "      <td>3</td>\n",
              "      <td>3</td>\n",
              "      <td>...</td>\n",
              "      <td>1</td>\n",
              "      <td>4</td>\n",
              "      <td>3</td>\n",
              "      <td>1</td>\n",
              "      <td>4</td>\n",
              "      <td>3</td>\n",
              "      <td>3</td>\n",
              "      <td>3</td>\n",
              "      <td>4</td>\n",
              "      <td>UI/UX Designer</td>\n",
              "    </tr>\n",
              "    <tr>\n",
              "      <th>3</th>\n",
              "      <td>3</td>\n",
              "      <td>4</td>\n",
              "      <td>2</td>\n",
              "      <td>1</td>\n",
              "      <td>1</td>\n",
              "      <td>1</td>\n",
              "      <td>1</td>\n",
              "      <td>1</td>\n",
              "      <td>3</td>\n",
              "      <td>2</td>\n",
              "      <td>...</td>\n",
              "      <td>1</td>\n",
              "      <td>3</td>\n",
              "      <td>2</td>\n",
              "      <td>1</td>\n",
              "      <td>2</td>\n",
              "      <td>1</td>\n",
              "      <td>4</td>\n",
              "      <td>4</td>\n",
              "      <td>3</td>\n",
              "      <td>Technical Support</td>\n",
              "    </tr>\n",
              "    <tr>\n",
              "      <th>4</th>\n",
              "      <td>2</td>\n",
              "      <td>3</td>\n",
              "      <td>2</td>\n",
              "      <td>4</td>\n",
              "      <td>1</td>\n",
              "      <td>1</td>\n",
              "      <td>1</td>\n",
              "      <td>4</td>\n",
              "      <td>3</td>\n",
              "      <td>3</td>\n",
              "      <td>...</td>\n",
              "      <td>1</td>\n",
              "      <td>2</td>\n",
              "      <td>1</td>\n",
              "      <td>3</td>\n",
              "      <td>1</td>\n",
              "      <td>5</td>\n",
              "      <td>4</td>\n",
              "      <td>3</td>\n",
              "      <td>1</td>\n",
              "      <td>Data Analyst</td>\n",
              "    </tr>\n",
              "  </tbody>\n",
              "</table>\n",
              "<p>5 rows × 26 columns</p>\n",
              "</div>\n",
              "    <div class=\"colab-df-buttons\">\n",
              "\n",
              "  <div class=\"colab-df-container\">\n",
              "    <button class=\"colab-df-convert\" onclick=\"convertToInteractive('df-5c1ddc83-e2fb-4f10-a47c-75a7e4fd1c63')\"\n",
              "            title=\"Convert this dataframe to an interactive table.\"\n",
              "            style=\"display:none;\">\n",
              "\n",
              "  <svg xmlns=\"http://www.w3.org/2000/svg\" height=\"24px\" viewBox=\"0 -960 960 960\">\n",
              "    <path d=\"M120-120v-720h720v720H120Zm60-500h600v-160H180v160Zm220 220h160v-160H400v160Zm0 220h160v-160H400v160ZM180-400h160v-160H180v160Zm440 0h160v-160H620v160ZM180-180h160v-160H180v160Zm440 0h160v-160H620v160Z\"/>\n",
              "  </svg>\n",
              "    </button>\n",
              "\n",
              "  <style>\n",
              "    .colab-df-container {\n",
              "      display:flex;\n",
              "      gap: 12px;\n",
              "    }\n",
              "\n",
              "    .colab-df-convert {\n",
              "      background-color: #E8F0FE;\n",
              "      border: none;\n",
              "      border-radius: 50%;\n",
              "      cursor: pointer;\n",
              "      display: none;\n",
              "      fill: #1967D2;\n",
              "      height: 32px;\n",
              "      padding: 0 0 0 0;\n",
              "      width: 32px;\n",
              "    }\n",
              "\n",
              "    .colab-df-convert:hover {\n",
              "      background-color: #E2EBFA;\n",
              "      box-shadow: 0px 1px 2px rgba(60, 64, 67, 0.3), 0px 1px 3px 1px rgba(60, 64, 67, 0.15);\n",
              "      fill: #174EA6;\n",
              "    }\n",
              "\n",
              "    .colab-df-buttons div {\n",
              "      margin-bottom: 4px;\n",
              "    }\n",
              "\n",
              "    [theme=dark] .colab-df-convert {\n",
              "      background-color: #3B4455;\n",
              "      fill: #D2E3FC;\n",
              "    }\n",
              "\n",
              "    [theme=dark] .colab-df-convert:hover {\n",
              "      background-color: #434B5C;\n",
              "      box-shadow: 0px 1px 3px 1px rgba(0, 0, 0, 0.15);\n",
              "      filter: drop-shadow(0px 1px 2px rgba(0, 0, 0, 0.3));\n",
              "      fill: #FFFFFF;\n",
              "    }\n",
              "  </style>\n",
              "\n",
              "    <script>\n",
              "      const buttonEl =\n",
              "        document.querySelector('#df-5c1ddc83-e2fb-4f10-a47c-75a7e4fd1c63 button.colab-df-convert');\n",
              "      buttonEl.style.display =\n",
              "        google.colab.kernel.accessAllowed ? 'block' : 'none';\n",
              "\n",
              "      async function convertToInteractive(key) {\n",
              "        const element = document.querySelector('#df-5c1ddc83-e2fb-4f10-a47c-75a7e4fd1c63');\n",
              "        const dataTable =\n",
              "          await google.colab.kernel.invokeFunction('convertToInteractive',\n",
              "                                                    [key], {});\n",
              "        if (!dataTable) return;\n",
              "\n",
              "        const docLinkHtml = 'Like what you see? Visit the ' +\n",
              "          '<a target=\"_blank\" href=https://colab.research.google.com/notebooks/data_table.ipynb>data table notebook</a>'\n",
              "          + ' to learn more about interactive tables.';\n",
              "        element.innerHTML = '';\n",
              "        dataTable['output_type'] = 'display_data';\n",
              "        await google.colab.output.renderOutput(dataTable, element);\n",
              "        const docLink = document.createElement('div');\n",
              "        docLink.innerHTML = docLinkHtml;\n",
              "        element.appendChild(docLink);\n",
              "      }\n",
              "    </script>\n",
              "  </div>\n",
              "\n",
              "\n",
              "<div id=\"df-b222080e-2edb-4a1e-81d8-9b64d219822c\">\n",
              "  <button class=\"colab-df-quickchart\" onclick=\"quickchart('df-b222080e-2edb-4a1e-81d8-9b64d219822c')\"\n",
              "            title=\"Suggest charts.\"\n",
              "            style=\"display:none;\">\n",
              "\n",
              "<svg xmlns=\"http://www.w3.org/2000/svg\" height=\"24px\"viewBox=\"0 0 24 24\"\n",
              "     width=\"24px\">\n",
              "    <g>\n",
              "        <path d=\"M19 3H5c-1.1 0-2 .9-2 2v14c0 1.1.9 2 2 2h14c1.1 0 2-.9 2-2V5c0-1.1-.9-2-2-2zM9 17H7v-7h2v7zm4 0h-2V7h2v10zm4 0h-2v-4h2v4z\"/>\n",
              "    </g>\n",
              "</svg>\n",
              "  </button>\n",
              "\n",
              "<style>\n",
              "  .colab-df-quickchart {\n",
              "      --bg-color: #E8F0FE;\n",
              "      --fill-color: #1967D2;\n",
              "      --hover-bg-color: #E2EBFA;\n",
              "      --hover-fill-color: #174EA6;\n",
              "      --disabled-fill-color: #AAA;\n",
              "      --disabled-bg-color: #DDD;\n",
              "  }\n",
              "\n",
              "  [theme=dark] .colab-df-quickchart {\n",
              "      --bg-color: #3B4455;\n",
              "      --fill-color: #D2E3FC;\n",
              "      --hover-bg-color: #434B5C;\n",
              "      --hover-fill-color: #FFFFFF;\n",
              "      --disabled-bg-color: #3B4455;\n",
              "      --disabled-fill-color: #666;\n",
              "  }\n",
              "\n",
              "  .colab-df-quickchart {\n",
              "    background-color: var(--bg-color);\n",
              "    border: none;\n",
              "    border-radius: 50%;\n",
              "    cursor: pointer;\n",
              "    display: none;\n",
              "    fill: var(--fill-color);\n",
              "    height: 32px;\n",
              "    padding: 0;\n",
              "    width: 32px;\n",
              "  }\n",
              "\n",
              "  .colab-df-quickchart:hover {\n",
              "    background-color: var(--hover-bg-color);\n",
              "    box-shadow: 0 1px 2px rgba(60, 64, 67, 0.3), 0 1px 3px 1px rgba(60, 64, 67, 0.15);\n",
              "    fill: var(--button-hover-fill-color);\n",
              "  }\n",
              "\n",
              "  .colab-df-quickchart-complete:disabled,\n",
              "  .colab-df-quickchart-complete:disabled:hover {\n",
              "    background-color: var(--disabled-bg-color);\n",
              "    fill: var(--disabled-fill-color);\n",
              "    box-shadow: none;\n",
              "  }\n",
              "\n",
              "  .colab-df-spinner {\n",
              "    border: 2px solid var(--fill-color);\n",
              "    border-color: transparent;\n",
              "    border-bottom-color: var(--fill-color);\n",
              "    animation:\n",
              "      spin 1s steps(1) infinite;\n",
              "  }\n",
              "\n",
              "  @keyframes spin {\n",
              "    0% {\n",
              "      border-color: transparent;\n",
              "      border-bottom-color: var(--fill-color);\n",
              "      border-left-color: var(--fill-color);\n",
              "    }\n",
              "    20% {\n",
              "      border-color: transparent;\n",
              "      border-left-color: var(--fill-color);\n",
              "      border-top-color: var(--fill-color);\n",
              "    }\n",
              "    30% {\n",
              "      border-color: transparent;\n",
              "      border-left-color: var(--fill-color);\n",
              "      border-top-color: var(--fill-color);\n",
              "      border-right-color: var(--fill-color);\n",
              "    }\n",
              "    40% {\n",
              "      border-color: transparent;\n",
              "      border-right-color: var(--fill-color);\n",
              "      border-top-color: var(--fill-color);\n",
              "    }\n",
              "    60% {\n",
              "      border-color: transparent;\n",
              "      border-right-color: var(--fill-color);\n",
              "    }\n",
              "    80% {\n",
              "      border-color: transparent;\n",
              "      border-right-color: var(--fill-color);\n",
              "      border-bottom-color: var(--fill-color);\n",
              "    }\n",
              "    90% {\n",
              "      border-color: transparent;\n",
              "      border-bottom-color: var(--fill-color);\n",
              "    }\n",
              "  }\n",
              "</style>\n",
              "\n",
              "  <script>\n",
              "    async function quickchart(key) {\n",
              "      const quickchartButtonEl =\n",
              "        document.querySelector('#' + key + ' button');\n",
              "      quickchartButtonEl.disabled = true;  // To prevent multiple clicks.\n",
              "      quickchartButtonEl.classList.add('colab-df-spinner');\n",
              "      try {\n",
              "        const charts = await google.colab.kernel.invokeFunction(\n",
              "            'suggestCharts', [key], {});\n",
              "      } catch (error) {\n",
              "        console.error('Error during call to suggestCharts:', error);\n",
              "      }\n",
              "      quickchartButtonEl.classList.remove('colab-df-spinner');\n",
              "      quickchartButtonEl.classList.add('colab-df-quickchart-complete');\n",
              "    }\n",
              "    (() => {\n",
              "      let quickchartButtonEl =\n",
              "        document.querySelector('#df-b222080e-2edb-4a1e-81d8-9b64d219822c button');\n",
              "      quickchartButtonEl.style.display =\n",
              "        google.colab.kernel.accessAllowed ? 'block' : 'none';\n",
              "    })();\n",
              "  </script>\n",
              "</div>\n",
              "    </div>\n",
              "  </div>\n"
            ]
          },
          "metadata": {},
          "execution_count": 1
        }
      ]
    },
    {
      "cell_type": "code",
      "metadata": {
        "colab": {
          "base_uri": "https://localhost:8080/"
        },
        "id": "7c1CCk-EhQic",
        "outputId": "5c193a24-d685-4fab-bd9e-a61f0b71bd2e"
      },
      "source": [
        "data = dataset.iloc[:49,:-1].values\n",
        "label = dataset.iloc[:49,-1]\n",
        "#-------------------------------Label Encoding--------------------------#\n",
        "from sklearn.preprocessing import LabelEncoder, OneHotEncoder\n",
        "labelencoder = LabelEncoder()\n",
        "df = dataset\n",
        "label = df.iloc[:49,-1]\n",
        "original=label.unique()\n",
        "label=label.values\n",
        "label2 = labelencoder.fit_transform(label)\n",
        "y=pd.DataFrame(label2,columns=[\"ROLE\"])\n",
        "numeric=y[\"ROLE\"].unique()\n",
        "y1 = pd.DataFrame({'ROLE':original, 'Associated Number':numeric})\n",
        "print(y1)\n",
        "from sklearn.preprocessing import LabelEncoder, OneHotEncoder\n",
        "labelencoder = LabelEncoder()\n",
        "label = labelencoder.fit_transform(label)\n",
        "y=pd.DataFrame(label,columns=[\"role\"])\n",
        "X = pd.DataFrame(data,columns=['sslc','hsc','cgpa','school_type','no_of_miniprojects','no_of_projects',\n",
        "                                'coresub_skill','aptitude_skill','problemsolving_skill','programming_skill','abstractthink_skill',\n",
        "                                'design_skill','first_computer','first_program','lab_programs','ds_coding','technology_used',\n",
        "                                'sympos_attend','sympos_won','extracurricular','learning_style','college_bench','clg_teachers_know','college_performence','college_skills'])"
      ],
      "execution_count": 2,
      "outputs": [
        {
          "output_type": "stream",
          "name": "stdout",
          "text": [
            "                 ROLE  Associated Number\n",
            "0   Technical Support                  4\n",
            "1  Software Developer                  2\n",
            "2      UI/UX Designer                  6\n",
            "3        Data Analyst                  1\n",
            "4    Technical Writer                  5\n",
            "5       Web Developer                  7\n",
            "6     Software Tester                  3\n",
            "7    Business Analyst                  0\n"
          ]
        }
      ]
    },
    {
      "cell_type": "markdown",
      "metadata": {
        "id": "YZzTh9Yrf_x6"
      },
      "source": [
        "Thus, we have categorical data and categorical target.\n",
        "\n",
        "For  Feature Selection :\n",
        "\n",
        "We propose to use:\n",
        "\n",
        "1. Chi-Squared Statistic.\n",
        "2. Mutual Information Statistic.\n",
        "\n"
      ]
    },
    {
      "cell_type": "code",
      "metadata": {
        "id": "EkszPWfkf_dz"
      },
      "source": [
        "\n",
        "from pandas import read_csv\n",
        "from sklearn.model_selection import train_test_split\n",
        "from sklearn.preprocessing import LabelEncoder\n",
        "from sklearn.preprocessing import OrdinalEncoder\n",
        "from sklearn.feature_selection import SelectKBest\n",
        "from sklearn.feature_selection import chi2\n",
        "from matplotlib import pyplot"
      ],
      "execution_count": 3,
      "outputs": []
    },
    {
      "cell_type": "code",
      "metadata": {
        "colab": {
          "base_uri": "https://localhost:8080/",
          "height": 1000
        },
        "id": "An3KlNcZglav",
        "outputId": "d5eaf0c7-26a7-4f17-c58c-a68343988708"
      },
      "source": [
        "# feature selection\n",
        "# example of chi squared feature selection for categorical data\n",
        "from sklearn.feature_selection import SelectKBest, chi2\n",
        "from sklearn.model_selection import train_test_split\n",
        "import matplotlib.pyplot as plt\n",
        "from sklearn.feature_selection import SelectKBest\n",
        "def select_features(X_train, y_train, X_test):\n",
        "\tfs = SelectKBest(score_func=chi2, k='all')\n",
        "\tfs.fit(X_train, y_train)\n",
        "\tX_train_fs = fs.transform(X_train)\n",
        "\tX_test_fs = fs.transform(X_test)\n",
        "\treturn X_train_fs, X_test_fs, fs\n",
        "\n",
        "# split into train and test sets\n",
        "X_train, X_test, y_train, y_test = train_test_split(X, y, test_size=0.2, random_state=20)#Decision tree\n",
        "X_train2,X_test2,y_train2,y_test2=train_test_split(X,y,test_size=0.3,random_state=10)#XGBoost\n",
        "X_train6,X_test6,y_train6,y_test6=train_test_split(X,y,test_size=0.2,random_state=15)#SVM\n",
        "\n",
        "X_train1, X_test1, fs1 = select_features(X_train, y_train, X_test)\n",
        "X_train3, X_test3, fs3 = select_features(X_train2, y_train2, X_test2)\n",
        "X_train5, X_test5, fs5 = select_features(X_train2, y_train2, X_test2)\n",
        "\n",
        "# what are scores for the features\n",
        "for i in range(len(fs1.scores_)):\n",
        "\tprint('Feature %d: %f' % (i, fs1.scores_[i]))\n",
        "# plot the scores\n",
        "pyplot.bar([i for i in range(len(fs1.scores_))], fs1.scores_)\n",
        "pyplot.show()\n",
        "\n",
        "count = 0\n",
        "for i in fs1.scores_ :\n",
        "    if i > 1 :\n",
        "        count = count + 1\n",
        "k1=count\n",
        "print(\" The number of important features with threshold as 1 :{} \".format(k1))\n",
        "\n",
        "\n",
        "for i in range(len(fs3.scores_)):\n",
        "\tprint('Feature %d: %f' % (i, fs3.scores_[i]))\n",
        "# plot the scores\n",
        "pyplot.bar([i for i in range(len(fs3.scores_))], fs3.scores_)\n",
        "pyplot.show()\n",
        "\n",
        "count = 0\n",
        "for i in fs3.scores_ :\n",
        "    if i > 1 :\n",
        "        count = count + 1\n",
        "k3=count\n",
        "\n",
        "print(\" The number of important features with threshold as 1 :{} \".format(k3))"
      ],
      "execution_count": 5,
      "outputs": [
        {
          "output_type": "stream",
          "name": "stdout",
          "text": [
            "Feature 0: 2.101772\n",
            "Feature 1: 0.955491\n",
            "Feature 2: 1.599306\n",
            "Feature 3: 1.769333\n",
            "Feature 4: 3.316358\n",
            "Feature 5: 1.125758\n",
            "Feature 6: 1.299609\n",
            "Feature 7: 6.225678\n",
            "Feature 8: 1.013542\n",
            "Feature 9: 1.529464\n",
            "Feature 10: 6.433067\n",
            "Feature 11: 3.607745\n",
            "Feature 12: 0.611667\n",
            "Feature 13: 1.566959\n",
            "Feature 14: 0.907095\n",
            "Feature 15: 4.838542\n",
            "Feature 16: 1.000189\n",
            "Feature 17: 2.309167\n",
            "Feature 18: 2.526337\n",
            "Feature 19: 3.994762\n",
            "Feature 20: 3.109337\n",
            "Feature 21: 0.519778\n",
            "Feature 22: 0.356387\n",
            "Feature 23: 0.116054\n",
            "Feature 24: 5.677100\n"
          ]
        },
        {
          "output_type": "display_data",
          "data": {
            "text/plain": [
              "<Figure size 640x480 with 1 Axes>"
            ],
            "image/png": "[encoded data removed]"
          },
          "metadata": {}
        },
        {
          "output_type": "stream",
          "name": "stdout",
          "text": [
            " The number of important features with threshold as 1 :19 \n",
            "Feature 0: 2.647197\n",
            "Feature 1: 0.606646\n",
            "Feature 2: 0.987726\n",
            "Feature 3: 3.816667\n",
            "Feature 4: 2.366213\n",
            "Feature 5: 1.146154\n",
            "Feature 6: 1.424897\n",
            "Feature 7: 4.506504\n",
            "Feature 8: 1.653086\n",
            "Feature 9: 1.386111\n",
            "Feature 10: 3.688753\n",
            "Feature 11: 2.377637\n",
            "Feature 12: 1.653040\n",
            "Feature 13: 1.869637\n",
            "Feature 14: 0.573077\n",
            "Feature 15: 2.759781\n",
            "Feature 16: 1.664387\n",
            "Feature 17: 2.188087\n",
            "Feature 18: 3.249751\n",
            "Feature 19: 4.095988\n",
            "Feature 20: 1.730137\n",
            "Feature 21: 0.844985\n",
            "Feature 22: 0.326944\n",
            "Feature 23: 0.498964\n",
            "Feature 24: 7.232533\n"
          ]
        },
        {
          "output_type": "display_data",
          "data": {
            "text/plain": [
              "<Figure size 640x480 with 1 Axes>"
            ],
            "image/png": "[encoded data removed]"
          },
          "metadata": {}
        },
        {
          "output_type": "stream",
          "name": "stdout",
          "text": [
            " The number of important features with threshold as 1 :19 \n"
          ]
        }
      ]
    },
    {
      "cell_type": "code",
      "source": [],
      "metadata": {
        "id": "BQZIzbYJGj4L"
      },
      "execution_count": null,
      "outputs": []
    },
    {
      "cell_type": "code",
      "metadata": {
        "id": "wqvizUr3R_-d",
        "colab": {
          "base_uri": "https://localhost:8080/",
          "height": 881
        },
        "outputId": "ad32fd5c-b92b-41a1-cb34-df6f2123bc7c"
      },
      "source": [
        "#X_train4, X_test4, fs = select_features(X_train2, y_train2, X_test2)\n",
        "for i in range(len(fs5.scores_)):\n",
        "\tprint('Feature %d: %f' % (i, fs5.scores_[i]))\n",
        "# plot the scores\n",
        "pyplot.bar([i for i in range(len(fs5.scores_))], fs5.scores_)\n",
        "pyplot.show()\n",
        "\n",
        "count = 0\n",
        "for i in fs5.scores_ :\n",
        "    if i > 1 :\n",
        "        count = count + 1\n",
        "k5=count\n",
        "\n",
        "print(\" The number of important features with threshold as 1 : {}\" .format(k5))"
      ],
      "execution_count": 6,
      "outputs": [
        {
          "output_type": "stream",
          "name": "stdout",
          "text": [
            "Feature 0: 2.647197\n",
            "Feature 1: 0.606646\n",
            "Feature 2: 0.987726\n",
            "Feature 3: 3.816667\n",
            "Feature 4: 2.366213\n",
            "Feature 5: 1.146154\n",
            "Feature 6: 1.424897\n",
            "Feature 7: 4.506504\n",
            "Feature 8: 1.653086\n",
            "Feature 9: 1.386111\n",
            "Feature 10: 3.688753\n",
            "Feature 11: 2.377637\n",
            "Feature 12: 1.653040\n",
            "Feature 13: 1.869637\n",
            "Feature 14: 0.573077\n",
            "Feature 15: 2.759781\n",
            "Feature 16: 1.664387\n",
            "Feature 17: 2.188087\n",
            "Feature 18: 3.249751\n",
            "Feature 19: 4.095988\n",
            "Feature 20: 1.730137\n",
            "Feature 21: 0.844985\n",
            "Feature 22: 0.326944\n",
            "Feature 23: 0.498964\n",
            "Feature 24: 7.232533\n"
          ]
        },
        {
          "output_type": "display_data",
          "data": {
            "text/plain": [
              "<Figure size 640x480 with 1 Axes>"
            ],
            "image/png": "[encoded data removed]"
          },
          "metadata": {}
        },
        {
          "output_type": "stream",
          "name": "stdout",
          "text": [
            " The number of important features with threshold as 1 : 19\n"
          ]
        }
      ]
    },
    {
      "cell_type": "markdown",
      "metadata": {
        "id": "yQK5DajNzrYD"
      },
      "source": [
        "A bar chart of the feature importance scores for each input feature is created.\n",
        "\n"
      ]
    },
    {
      "cell_type": "markdown",
      "metadata": {
        "id": "p-Pll3-10ASq"
      },
      "source": [
        "So, from above plot we remove the features with lower importance scores (<1.5).\n",
        "\n",
        "Hence features 2,5,8,9,14,16,21,22,23 are not considered,\n",
        "\n",
        "We could set k=16 i.e (25-9)  When configuring the SelectKBest to select these top 16 features"
      ]
    },
    {
      "cell_type": "code",
      "metadata": {
        "id": "IcSMQuHA3rzW",
        "colab": {
          "base_uri": "https://localhost:8080/"
        },
        "outputId": "72105719-5b86-40d6-8c90-759b0f2f35b5"
      },
      "source": [
        "from sklearn.svm import SVC  # Import the Support Vector Classifier\n",
        "from sklearn.metrics import accuracy_score  # Import a performance metric (e.g., accuracy)\n",
        "def svm(X_train, y_train, X_test, y_test):\n",
        "    # Initialize the SVM classifier\n",
        "    svm_classifier = SVC(kernel='linear')  # You can choose different kernels based on your problem\n",
        "\n",
        "    # Train the SVM classifier\n",
        "    svm_classifier.fit(X_train, y_train)\n",
        "\n",
        "    # Make predictions on the test data\n",
        "    y_pred = svm_classifier.predict(X_test)\n",
        "\n",
        "    # Calculate and return the accuracy score\n",
        "    accuracy = accuracy_score(y_test, y_pred)\n",
        "    return accuracy\n",
        "\n",
        "from sklearn.tree import DecisionTreeClassifier  # Import the Decision Tree Classifier\n",
        "def Dec_tree(X_train, y_train, X_test, y_test):\n",
        "    # Initialize the Decision Tree classifier\n",
        "    dt_classifier = DecisionTreeClassifier()  # You can set various hyperparameters here\n",
        "\n",
        "    # Train the Decision Tree classifier\n",
        "    dt_classifier.fit(X_train, y_train)\n",
        "\n",
        "    # Make predictions on the test data\n",
        "    y_pred = dt_classifier.predict(X_test)\n",
        "\n",
        "    # Calculate and return the accuracy score\n",
        "    accuracy = accuracy_score(y_test, y_pred)\n",
        "    return accuracy, dt_classifier\n",
        "\n",
        "# import xgboost as xgb\n",
        "# def xgboost(X_train, y_train, X_test, y_test, dt_classifier):\n",
        "#     # Initialize the XGBoost classifier\n",
        "#     xgb_classifier = xgb.XGBClassifier()  # You can set various hyperparameters here\n",
        "\n",
        "#     # Train the XGBoost classifier on top of the Decision Tree classifier\n",
        "#     xgb_classifier.fit(X_train, y_train)\n",
        "\n",
        "#     # Make predictions on the test data\n",
        "#     y_pred = xgb_classifier.predict(X_test)\n",
        "\n",
        "#     # Calculate and return the accuracy score\n",
        "#     accuracy = accuracy_score(y_test, y_pred)\n",
        "#     return accuracy\n",
        "\n",
        "def select_features(X_train, y_train, X_test):\n",
        "\tfs = SelectKBest(score_func=chi2,k=k1)\n",
        "\tfs.fit(X_train, y_train)\n",
        "\tX_train_fs = fs.transform(X_train)\n",
        "\tX_test_fs = fs.transform(X_test)\n",
        "\treturn X_train_fs, X_test_fs, fs\n",
        "\n",
        "def select_features2(X_train, y_train, X_test):\n",
        "\tfs = SelectKBest(score_func=chi2,k=k3)\n",
        "\tfs.fit(X_train, y_train)\n",
        "\tX_train_fs = fs.transform(X_train)\n",
        "\tX_test_fs = fs.transform(X_test)\n",
        "\treturn X_train_fs, X_test_fs, fs\n",
        "\n",
        "def select_features3(X_train, y_train, X_test):\n",
        "\tfs = SelectKBest(score_func=chi2,k=k5)\n",
        "\tfs.fit(X_train, y_train)\n",
        "\tX_train_fs = fs.transform(X_train)\n",
        "\tX_test_fs = fs.transform(X_test)\n",
        "\treturn X_train_fs, X_test_fs, fs\n",
        "\n",
        "\n",
        "X_train1, X_test1, fs = select_features(X_train, y_train, X_test)\n",
        "X_train3, X_test3, fs = select_features2(X_train2, y_train2, X_test2)\n",
        "X_train5, X_test5, fs = select_features3(X_train6, y_train6, X_test6)\n",
        "\n",
        "\n",
        "#---------------SVM------------------#\n",
        "#\n",
        "print(\"Without feature Selection : \")\n",
        "acc = svm(X_train6,y_train6,X_test6,y_test6)\n",
        "\n",
        "print(\"With feature Selection : \")\n",
        "acc1 = svm(X_train5,y_train6,X_test5,y_test6)\n",
        "\n",
        "#-------------Decision Tree-----------------#\n",
        "print(\"Without feature Selection : \")\n",
        "acc1,clf1 = Dec_tree(X_train1,y_train,X_test1,y_test)\n",
        "\n",
        "\n",
        "print(\"With feature Selection : \")\n",
        "acc,clf = Dec_tree(X_train,y_train,X_test,y_test)\n",
        "\n",
        "print(' ')\n",
        "\n",
        "# #-------------XGBoost-----------------#\n",
        "# print(\"Boosting the Decision Tree  \")\n",
        "# acc = xgboost(X_train2,y_train2,X_test2,y_test2,clf)\n"
      ],
      "execution_count": 11,
      "outputs": [
        {
          "output_type": "stream",
          "name": "stdout",
          "text": [
            "Without feature Selection : \n",
            "With feature Selection : \n",
            "Without feature Selection : \n",
            "With feature Selection : \n",
            " \n"
          ]
        },
        {
          "output_type": "stream",
          "name": "stderr",
          "text": [
            "/usr/local/lib/python3.10/dist-packages/sklearn/utils/validation.py:1143: DataConversionWarning: A column-vector y was passed when a 1d array was expected. Please change the shape of y to (n_samples, ), for example using ravel().\n",
            "  y = column_or_1d(y, warn=True)\n",
            "/usr/local/lib/python3.10/dist-packages/sklearn/utils/validation.py:1143: DataConversionWarning: A column-vector y was passed when a 1d array was expected. Please change the shape of y to (n_samples, ), for example using ravel().\n",
            "  y = column_or_1d(y, warn=True)\n"
          ]
        }
      ]
    },
    {
      "cell_type": "markdown",
      "metadata": {
        "id": "w_GJF49U0ABF"
      },
      "source": [
        "Mutual Info Classification"
      ]
    },
    {
      "cell_type": "code",
      "metadata": {
        "id": "xtsFDLnYiWNP",
        "colab": {
          "base_uri": "https://localhost:8080/",
          "height": 1000
        },
        "outputId": "2bf30d86-683d-446b-cd27-c471d389e1e5"
      },
      "source": [
        "# example of mutual information feature selection for categorical data\n",
        "from sklearn.feature_selection import mutual_info_classif\n",
        "\n",
        "def select_features(X_train, y_train, X_test):\n",
        "\tfs = SelectKBest(score_func=mutual_info_classif, k='all')\n",
        "\tfs.fit(X_train, y_train)\n",
        "\tX_train_fs = fs.transform(X_train)\n",
        "\tX_test_fs = fs.transform(X_test)\n",
        "\treturn X_train_fs, X_test_fs, fs\n",
        "\n",
        "# split into train and test sets\n",
        "X_train, X_test, y_train, y_test = train_test_split(X, y, test_size=0.2, random_state=20)#Decision tree\n",
        "X_train2,X_test2,y_train2,y_test2=train_test_split(X,y,test_size=0.3,random_state=10)#XGBoost\n",
        "X_train6,X_test6,y_train6,y_test6=train_test_split(X,y,test_size=0.2,random_state=15)#SVM\n",
        "\n",
        "X_train1, X_test1, fs1 = select_features(X_train, y_train, X_test)\n",
        "X_train3, X_test3, fs3 = select_features(X_train2, y_train2, X_test2)\n",
        "X_train5, X_test5, fs5 = select_features(X_train2, y_train2, X_test2)\n",
        "\n",
        "# what are scores for the features\n",
        "for i in range(len(fs1.scores_)):\n",
        "\tprint('Feature %d: %f' % (i, fs.scores_[i]))\n",
        "# plot the scores\n",
        "pyplot.bar([i for i in range(len(fs.scores_))], fs.scores_)\n",
        "pyplot.show()\n",
        "\n",
        "count = 0\n",
        "for i in fs.scores_ :\n",
        "    if i > 0.2 :\n",
        "        count = count + 1\n",
        "k1=count\n",
        "print(\" The number of important features with threshold as 0.2 :{} \".format(k1))\n",
        "\n",
        "\n",
        "for i in range(len(fs3.scores_)):\n",
        "\tprint('Feature %d: %f' % (i, fs3.scores_[i]))\n",
        "# plot the scores\n",
        "pyplot.bar([i for i in range(len(fs3.scores_))], fs3.scores_)\n",
        "pyplot.show()\n",
        "\n",
        "count = 0\n",
        "for i in fs3.scores_ :\n",
        "    if i > 0.2 :\n",
        "        count = count + 1\n",
        "k3=count\n",
        "\n",
        "print(\" The number of important features with threshold as 0.2 :{} \".format(k3))\n",
        "\n",
        "#X_train4, X_test4, fs = select_features(X_train2, y_train2, X_test2)\n",
        "for i in range(len(fs5.scores_)):\n",
        "\tprint('Feature %d: %f' % (i, fs5.scores_[i]))\n",
        "# plot the scores\n",
        "pyplot.bar([i for i in range(len(fs5.scores_))], fs5.scores_)\n",
        "pyplot.show()\n",
        "\n",
        "count = 0\n",
        "for i in fs5.scores_ :\n",
        "    if i > 0.2 :\n",
        "        count = count + 1\n",
        "k5=count\n",
        "\n",
        "print(\" The number of important features with threshold as 0.2 : {}\" .format(k5))"
      ],
      "execution_count": 12,
      "outputs": [
        {
          "output_type": "stream",
          "name": "stderr",
          "text": [
            "/usr/local/lib/python3.10/dist-packages/sklearn/utils/validation.py:1143: DataConversionWarning: A column-vector y was passed when a 1d array was expected. Please change the shape of y to (n_samples, ), for example using ravel().\n",
            "  y = column_or_1d(y, warn=True)\n",
            "/usr/local/lib/python3.10/dist-packages/sklearn/utils/validation.py:1143: DataConversionWarning: A column-vector y was passed when a 1d array was expected. Please change the shape of y to (n_samples, ), for example using ravel().\n",
            "  y = column_or_1d(y, warn=True)\n",
            "/usr/local/lib/python3.10/dist-packages/sklearn/utils/validation.py:1143: DataConversionWarning: A column-vector y was passed when a 1d array was expected. Please change the shape of y to (n_samples, ), for example using ravel().\n",
            "  y = column_or_1d(y, warn=True)\n"
          ]
        },
        {
          "output_type": "stream",
          "name": "stdout",
          "text": [
            "Feature 0: 1.939425\n",
            "Feature 1: 0.621032\n",
            "Feature 2: 1.190205\n",
            "Feature 3: 2.361067\n",
            "Feature 4: 2.723434\n",
            "Feature 5: 1.019886\n",
            "Feature 6: 1.630621\n",
            "Feature 7: 5.962755\n",
            "Feature 8: 0.948673\n",
            "Feature 9: 1.391667\n",
            "Feature 10: 3.995109\n",
            "Feature 11: 3.001412\n",
            "Feature 12: 1.301361\n",
            "Feature 13: 1.730517\n",
            "Feature 14: 0.916034\n",
            "Feature 15: 2.627847\n",
            "Feature 16: 0.703328\n",
            "Feature 17: 2.405423\n",
            "Feature 18: 3.379566\n",
            "Feature 19: 3.567291\n",
            "Feature 20: 2.512279\n",
            "Feature 21: 1.074299\n",
            "Feature 22: 0.271954\n",
            "Feature 23: 0.452889\n",
            "Feature 24: 8.890845\n"
          ]
        },
        {
          "output_type": "display_data",
          "data": {
            "text/plain": [
              "<Figure size 640x480 with 1 Axes>"
            ],
            "image/png": "[encoded data removed]"
          },
          "metadata": {}
        },
        {
          "output_type": "stream",
          "name": "stdout",
          "text": [
            " The number of important features with threshold as 0.2 :25 \n",
            "Feature 0: 0.038288\n",
            "Feature 1: 0.000000\n",
            "Feature 2: 0.226681\n",
            "Feature 3: 0.000000\n",
            "Feature 4: 0.054148\n",
            "Feature 5: 1.442087\n",
            "Feature 6: 0.898500\n",
            "Feature 7: 0.000000\n",
            "Feature 8: 0.060249\n",
            "Feature 9: 0.614890\n",
            "Feature 10: 0.352795\n",
            "Feature 11: 0.021278\n",
            "Feature 12: 0.059010\n",
            "Feature 13: 0.036028\n",
            "Feature 14: 0.802829\n",
            "Feature 15: 0.098177\n",
            "Feature 16: 0.871608\n",
            "Feature 17: 0.541336\n",
            "Feature 18: 0.035798\n",
            "Feature 19: 0.134277\n",
            "Feature 20: 0.310226\n",
            "Feature 21: 0.476619\n",
            "Feature 22: 0.332093\n",
            "Feature 23: 0.307855\n",
            "Feature 24: 0.204533\n"
          ]
        },
        {
          "output_type": "display_data",
          "data": {
            "text/plain": [
              "<Figure size 640x480 with 1 Axes>"
            ],
            "image/png": "[encoded data removed]"
          },
          "metadata": {}
        },
        {
          "output_type": "stream",
          "name": "stdout",
          "text": [
            " The number of important features with threshold as 0.2 :13 \n",
            "Feature 0: 0.071655\n",
            "Feature 1: 0.000000\n",
            "Feature 2: 0.334325\n",
            "Feature 3: 0.000000\n",
            "Feature 4: 0.479721\n",
            "Feature 5: 1.455393\n",
            "Feature 6: 0.270263\n",
            "Feature 7: 0.174022\n",
            "Feature 8: 0.379117\n",
            "Feature 9: 0.360184\n",
            "Feature 10: 0.013084\n",
            "Feature 11: 0.000000\n",
            "Feature 12: 0.461118\n",
            "Feature 13: 0.096613\n",
            "Feature 14: 1.345389\n",
            "Feature 15: 0.238524\n",
            "Feature 16: 1.571850\n",
            "Feature 17: 0.857978\n",
            "Feature 18: 0.329228\n",
            "Feature 19: 0.080493\n",
            "Feature 20: 0.154752\n",
            "Feature 21: 0.303928\n",
            "Feature 22: 0.324082\n",
            "Feature 23: 0.028061\n",
            "Feature 24: 0.219798\n"
          ]
        },
        {
          "output_type": "display_data",
          "data": {
            "text/plain": [
              "<Figure size 640x480 with 1 Axes>"
            ],
            "image/png": "[encoded data removed]"
          },
          "metadata": {}
        },
        {
          "output_type": "stream",
          "name": "stdout",
          "text": [
            " The number of important features with threshold as 0.2 : 15\n"
          ]
        }
      ]
    },
    {
      "cell_type": "code",
      "metadata": {
        "id": "caJ31ANmiROR",
        "colab": {
          "base_uri": "https://localhost:8080/"
        },
        "outputId": "18bdc31c-6f61-4e67-dbf5-ffa1cffafcc0"
      },
      "source": [
        "def select_features(X_train, y_train, X_test):\n",
        "\tfs = SelectKBest(score_func=mutual_info_classif,k=k1)\n",
        "\tfs.fit(X_train, y_train)\n",
        "\tX_train_fs = fs.transform(X_train)\n",
        "\tX_test_fs = fs.transform(X_test)\n",
        "\treturn X_train_fs, X_test_fs, fs\n",
        "\n",
        "def select_features2(X_train, y_train, X_test):\n",
        "\tfs = SelectKBest(score_func=mutual_info_classif,k=k3)\n",
        "\tfs.fit(X_train, y_train)\n",
        "\tX_train_fs = fs.transform(X_train)\n",
        "\tX_test_fs = fs.transform(X_test)\n",
        "\treturn X_train_fs, X_test_fs, fs\n",
        "\n",
        "def select_features3(X_train, y_train, X_test):\n",
        "\tfs = SelectKBest(score_func=mutual_info_classif,k=k5)\n",
        "\tfs.fit(X_train, y_train)\n",
        "\tX_train_fs = fs.transform(X_train)\n",
        "\tX_test_fs = fs.transform(X_test)\n",
        "\treturn X_train_fs, X_test_fs, fs\n",
        "\n",
        "\n",
        "X_train1, X_test1, fs = select_features(X_train, y_train, X_test)\n",
        "X_train3, X_test3, fs = select_features2(X_train2, y_train2, X_test2)\n",
        "X_train5, X_test5, fs = select_features3(X_train6, y_train6, X_test6)\n",
        "\n",
        "\n",
        "#---------------SVM------------------#\n",
        "#\n",
        "print(\"Without feature Selection : \")\n",
        "acc = svm(X_train6,y_train6,X_test6,y_test6)\n",
        "\n",
        "print(\"With feature Selection : \")\n",
        "acc1 = svm(X_train5,y_train6,X_test5,y_test6)\n",
        "\n",
        "#-------------Decision Tree-----------------#\n",
        "print(\"Without feature Selection : \")\n",
        "acc1,clf1 = Dec_tree(X_train1,y_train,X_test1,y_test)\n",
        "\n",
        "\n",
        "print(\"With feature Selection : \")\n",
        "acc,clf = Dec_tree(X_train,y_train,X_test,y_test)\n",
        "\n",
        "print(' ')\n",
        "\n",
        "# #-------------XGBoost-----------------#\n",
        "# print(\"Boosting the Decision Tree  \")\n",
        "# acc = xgboost(X_train2,y_train2,X_test2,y_test2,clf)\n"
      ],
      "execution_count": 14,
      "outputs": [
        {
          "output_type": "stream",
          "name": "stderr",
          "text": [
            "/usr/local/lib/python3.10/dist-packages/sklearn/utils/validation.py:1143: DataConversionWarning: A column-vector y was passed when a 1d array was expected. Please change the shape of y to (n_samples, ), for example using ravel().\n",
            "  y = column_or_1d(y, warn=True)\n",
            "/usr/local/lib/python3.10/dist-packages/sklearn/utils/validation.py:1143: DataConversionWarning: A column-vector y was passed when a 1d array was expected. Please change the shape of y to (n_samples, ), for example using ravel().\n",
            "  y = column_or_1d(y, warn=True)\n",
            "/usr/local/lib/python3.10/dist-packages/sklearn/utils/validation.py:1143: DataConversionWarning: A column-vector y was passed when a 1d array was expected. Please change the shape of y to (n_samples, ), for example using ravel().\n",
            "  y = column_or_1d(y, warn=True)\n"
          ]
        },
        {
          "output_type": "stream",
          "name": "stdout",
          "text": [
            "Without feature Selection : \n",
            "With feature Selection : \n",
            "Without feature Selection : \n",
            "With feature Selection : \n",
            " \n"
          ]
        },
        {
          "output_type": "stream",
          "name": "stderr",
          "text": [
            "/usr/local/lib/python3.10/dist-packages/sklearn/utils/validation.py:1143: DataConversionWarning: A column-vector y was passed when a 1d array was expected. Please change the shape of y to (n_samples, ), for example using ravel().\n",
            "  y = column_or_1d(y, warn=True)\n",
            "/usr/local/lib/python3.10/dist-packages/sklearn/utils/validation.py:1143: DataConversionWarning: A column-vector y was passed when a 1d array was expected. Please change the shape of y to (n_samples, ), for example using ravel().\n",
            "  y = column_or_1d(y, warn=True)\n"
          ]
        }
      ]
    },
    {
      "cell_type": "markdown",
      "metadata": {
        "id": "udZl3BhOubrS"
      },
      "source": [
        "Accuracies vs Techniques"
      ]
    },
    {
      "cell_type": "code",
      "metadata": {
        "id": "WKBN8OCcuUKB",
        "colab": {
          "base_uri": "https://localhost:8080/",
          "height": 465
        },
        "outputId": "fcff9343-be6a-4a51-bb34-fefb753f7282"
      },
      "source": [
        "import matplotlib.pyplot as plt\n",
        "#fig = plt.figure()\n",
        "fig = plt.figure(figsize =(10, 5))\n",
        "#ax = fig.add_axes([0,0,1,1])\n",
        "Name = ['Decision Tree(with feature selection)','Decision Tree(without feature selection)', 'XGBoost', 'SVM(with feature selction)','SVM(without feature selction)']\n",
        "accuracies = [50,40,93.333,70,60]\n",
        "plt.bar(Name,accuracies)\n",
        "plt.ylabel('Accuracies')\n",
        "plt.xlabel('Techniques')\n",
        "plt.show()"
      ],
      "execution_count": 15,
      "outputs": [
        {
          "output_type": "display_data",
          "data": {
            "text/plain": [
              "<Figure size 1000x500 with 1 Axes>"
            ],
            "image/png": "[encoded data removed]"
          },
          "metadata": {}
        }
      ]
    },
    {
      "cell_type": "markdown",
      "metadata": {
        "id": "zyc7XYm7uuaQ"
      },
      "source": [
        "Prediction for new input"
      ]
    },
    {
      "cell_type": "code",
      "metadata": {
        "id": "O7c6prGGwigQ",
        "colab": {
          "base_uri": "https://localhost:8080/"
        },
        "outputId": "604fecc5-9e79-4e54-a230-56dace7324b7"
      },
      "source": [
        "# x_new = ['3','5','4','3','5','4','3','5','2','2','5','2','5','4','2','5','5','3','2','5','5','4','2','3','4']\n",
        "x_new = []\n",
        "feat = list(X.columns)\n",
        "for i in feat:\n",
        "  print(i)\n",
        "  val = input(\"Enter: \")\n",
        "  x_new.append(val)\n",
        "x_new"
      ],
      "execution_count": 21,
      "outputs": [
        {
          "name": "stdout",
          "output_type": "stream",
          "text": [
            "sslc\n",
            "Enter: 2\n",
            "hsc\n",
            "Enter: 2\n",
            "cgpa\n",
            "Enter: 2\n",
            "school_type\n",
            "Enter: 2\n",
            "no_of_miniprojects\n",
            "Enter: 2\n",
            "no_of_projects\n",
            "Enter: 2\n",
            "coresub_skill\n",
            "Enter: 2\n",
            "aptitude_skill\n",
            "Enter: 2\n",
            "problemsolving_skill\n",
            "Enter: 2\n",
            "programming_skill\n",
            "Enter: 2\n",
            "abstractthink_skill\n",
            "Enter: 2\n",
            "design_skill\n",
            "Enter: 2\n",
            "first_computer\n",
            "Enter: 2\n",
            "first_program\n",
            "Enter: 2\n",
            "lab_programs\n",
            "Enter: 2\n",
            "ds_coding\n",
            "Enter: 2\n",
            "technology_used\n",
            "Enter: 2\n",
            "sympos_attend\n",
            "Enter: 2\n",
            "sympos_won\n",
            "Enter: 2\n",
            "extracurricular\n",
            "Enter: 2\n",
            "learning_style\n",
            "Enter: 2\n",
            "college_bench\n",
            "Enter: 2\n",
            "clg_teachers_know\n",
            "Enter: 2\n",
            "college_performence\n",
            "Enter: 2\n",
            "college_skills\n",
            "Enter: 2\n"
          ]
        },
        {
          "output_type": "execute_result",
          "data": {
            "text/plain": [
              "['2',\n",
              " '2',\n",
              " '2',\n",
              " '2',\n",
              " '2',\n",
              " '2',\n",
              " '2',\n",
              " '2',\n",
              " '2',\n",
              " '2',\n",
              " '2',\n",
              " '2',\n",
              " '2',\n",
              " '2',\n",
              " '2',\n",
              " '2',\n",
              " '2',\n",
              " '2',\n",
              " '2',\n",
              " '2',\n",
              " '2',\n",
              " '2',\n",
              " '2',\n",
              " '2',\n",
              " '2']"
            ]
          },
          "metadata": {},
          "execution_count": 21
        }
      ]
    },
    {
      "cell_type": "code",
      "metadata": {
        "id": "z2kjQBMywiy1",
        "colab": {
          "base_uri": "https://localhost:8080/"
        },
        "outputId": "0a6aecfa-1a76-4092-a577-aaf0040b6f22"
      },
      "source": [
        "#x_new = ['3','5','4','3','5','4','3','5','2','2','5','2','5','4','2','5','5','3','2','5','5','4','2','3','4']\n",
        "new_pred  = clf.predict([x_new])\n",
        "print(\"Prediction : {}\".format(y1[y1['Associated Number']==new_pred[0]]['ROLE']))"
      ],
      "execution_count": 22,
      "outputs": [
        {
          "output_type": "stream",
          "name": "stdout",
          "text": [
            "Prediction : 7    Business Analyst\n",
            "Name: ROLE, dtype: object\n"
          ]
        },
        {
          "output_type": "stream",
          "name": "stderr",
          "text": [
            "/usr/local/lib/python3.10/dist-packages/sklearn/base.py:439: UserWarning: X does not have valid feature names, but DecisionTreeClassifier was fitted with feature names\n",
            "  warnings.warn(\n"
          ]
        }
      ]
    },
    {
      "cell_type": "markdown",
      "metadata": {
        "id": "jHdvspMzzaKs"
      },
      "source": [
        "Algorithms : SVM, Decision Tree and XGBoost"
      ]
    },
    {
      "cell_type": "code",
      "metadata": {
        "id": "gm5sjkrDwiQ_"
      },
      "source": [
        "#Support Vector machine\n",
        "from sklearn.metrics import confusion_matrix,accuracy_score\n",
        "def svm(X_train,y_train,X_test,y_test):\n",
        "  from sklearn.svm import SVC\n",
        "  from pandas import read_csv\n",
        "  from sklearn.model_selection import train_test_split\n",
        "\n",
        "  # import metrics to compute accuracy\n",
        "  from sklearn.metrics import accuracy_score\n",
        "  svc=SVC()\n",
        "  # fit classifier to training set\n",
        "  svc.fit(X_train,y_train)\n",
        "  # make predictions on test set\n",
        "  y_pred=svc.predict(X_test)\n",
        "  # compute and print accuracy score\n",
        "  print('Model accuracy score with default hyperparameters: {0:0.4f}'. format(accuracy_score(y_test, y_pred)*100))\n",
        "  return accuracy_score(y_test, y_pred)*100\n",
        "\n",
        "def Dec_tree(X_train,y_train,X_test,y_test):\n",
        "  from sklearn import tree\n",
        "  clf = tree.DecisionTreeClassifier()\n",
        "  clf = clf.fit(X_train, y_train)\n",
        "  # Prediction\n",
        "  y_pred = clf.predict(X_test)\n",
        "  y_test_arr=y_test['role']\n",
        "  from sklearn.metrics import confusion_matrix,accuracy_score\n",
        "  accuracy = accuracy_score(y_test,y_pred)\n",
        "  print('Model accuracy score with Decision Tree', accuracy_score(y_test, y_pred)*100)\n",
        "  return accuracy*100,clf\n",
        "\n",
        "def xgboost(X_train,y_train,X_test,y_test,clf):\n",
        "  #X_train,X_test,y_train,y_test=train_test_split(X1,y,test_size=0.3,random_state=10)\n",
        "  shape = X_train.shape\n",
        "  X_train=pd.to_numeric(X_train.values.flatten())\n",
        "  X_train=X_train.reshape(shape)\n",
        "  from xgboost.sklearn import XGBClassifier\n",
        "  model = XGBClassifier()\n",
        "  model.fit(X_train, y_train)\n",
        "  xgb_y_pred  = clf.predict(X_test)\n",
        "  xgb_accuracy = accuracy_score(y_test,xgb_y_pred)\n",
        "  print(\"accuracy=\",xgb_accuracy*100)\n",
        "  return xgb_accuracy*100"
      ],
      "execution_count": 23,
      "outputs": []
    }
  ]
}